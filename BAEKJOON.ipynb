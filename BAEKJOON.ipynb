{
 "cells": [
  {
   "cell_type": "code",
   "execution_count": null,
   "metadata": {},
   "outputs": [],
   "source": [
    "L = int(input())\n",
    "lst = [0]\n",
    "lst += list(map(int, input().split()))\n",
    "maximum = 0\n",
    "maxd = 0\n",
    "for d in range(1,len(lst)):\n",
    "    j = 1\n",
    "    now = 0\n",
    "\n",
    "    while d * j < len(lst):\n",
    "        now += lst[d*j]\n",
    "        j += 1\n",
    "    maxtemp = max(now, maximum)\n",
    "\n",
    "    if maxtemp != maximum:\n",
    "        maxd = d\n",
    "        maximum = maxtemp\n",
    "\n",
    "print(f\"{maxd} {maximum}\")"
   ]
  },
  {
   "cell_type": "code",
   "execution_count": null,
   "metadata": {},
   "outputs": [],
   "source": [
    "# OT과제 1\n",
    "a,b = list(map(int, input().split()))\n",
    "lst = list()\n",
    "for i in range(-1000,1001):\n",
    "    result = (i * i) + (2 * a * i) + b\n",
    "    if result == 0:\n",
    "        lst.append(i)\n",
    "\n",
    "if len(lst) <= 1:\n",
    "    print(lst[0])\n",
    "else:\n",
    "    print(f'{lst[0]} {lst[1]}')"
   ]
  },
  {
   "cell_type": "code",
   "execution_count": null,
   "metadata": {},
   "outputs": [],
   "source": [
    "# OT과제 2\n",
    "N = int(input())\n",
    "lst = list(map(int, input().split()))\n",
    "lst.sort()\n",
    "\n",
    "if N % 2 == 0:\n",
    "    print(lst[N // 2 - 1])\n",
    "else:\n",
    "    print(lst[N // 2])"
   ]
  },
  {
   "cell_type": "code",
   "execution_count": null,
   "metadata": {},
   "outputs": [],
   "source": [
    "# OT과제 3\n",
    "N = int(input())\n",
    "xlst = list()\n",
    "ylst = list()\n",
    "for i in range(N):\n",
    "    x,y = list(map(int, input().split()))\n",
    "    xlst.append(x)\n",
    "    ylst.append(y)\n",
    "\n",
    "xlst.sort()\n",
    "ylst.sort()\n",
    "\n",
    "if N % 2 == 0:\n",
    "    x = xlst[N // 2 - 1]\n",
    "    y = ylst[N // 2 - 1]\n",
    "else:\n",
    "    x = xlst[N // 2]\n",
    "    y = ylst[N // 2]\n",
    "dist = 0\n",
    "for i in range(N):\n",
    "    dist += abs(x - xlst[i]) + abs(y - ylst[i])\n",
    "\n",
    "print(dist)"
   ]
  }
 ],
 "metadata": {
  "language_info": {
   "name": "python"
  },
  "orig_nbformat": 4
 },
 "nbformat": 4,
 "nbformat_minor": 2
}
