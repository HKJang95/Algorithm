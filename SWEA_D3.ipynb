{
 "cells": [
  {
   "cell_type": "code",
   "execution_count": 1,
   "metadata": {
    "scrolled": true
   },
   "outputs": [
    {
     "name": "stdout",
     "output_type": "stream",
     "text": [
      "1\n",
      "1\n"
     ]
    },
    {
     "ename": "KeyError",
     "evalue": "'1'",
     "output_type": "error",
     "traceback": [
      "\u001b[1;31m---------------------------------------------------------------------------\u001b[0m",
      "\u001b[1;31mKeyError\u001b[0m                                  Traceback (most recent call last)",
      "\u001b[1;32m<ipython-input-1-bee15d7a1812>\u001b[0m in \u001b[0;36m<module>\u001b[1;34m\u001b[0m\n\u001b[0;32m      6\u001b[0m \u001b[1;32mfor\u001b[0m \u001b[0mtest_case\u001b[0m \u001b[1;32min\u001b[0m \u001b[0mrange\u001b[0m\u001b[1;33m(\u001b[0m\u001b[1;36m1\u001b[0m\u001b[1;33m,\u001b[0m \u001b[0mT\u001b[0m \u001b[1;33m+\u001b[0m \u001b[1;36m1\u001b[0m\u001b[1;33m)\u001b[0m\u001b[1;33m:\u001b[0m\u001b[1;33m\u001b[0m\u001b[1;33m\u001b[0m\u001b[0m\n\u001b[0;32m      7\u001b[0m     \u001b[1;31m# ///////////////////////////////////////////////////////////////////////////////////\u001b[0m\u001b[1;33m\u001b[0m\u001b[1;33m\u001b[0m\u001b[1;33m\u001b[0m\u001b[0m\n\u001b[1;32m----> 8\u001b[1;33m     \u001b[0mprint\u001b[0m\u001b[1;33m(\u001b[0m\u001b[1;34m'#'\u001b[0m\u001b[1;33m+\u001b[0m\u001b[0mstr\u001b[0m\u001b[1;33m(\u001b[0m\u001b[0mtest_case\u001b[0m\u001b[1;33m)\u001b[0m\u001b[1;33m+\u001b[0m\u001b[1;34m' '\u001b[0m\u001b[1;33m+\u001b[0m\u001b[0mstr\u001b[0m\u001b[1;33m(\u001b[0m\u001b[0mdays\u001b[0m\u001b[1;33m[\u001b[0m\u001b[0minput\u001b[0m\u001b[1;33m(\u001b[0m\u001b[1;33m)\u001b[0m\u001b[1;33m]\u001b[0m\u001b[1;33m)\u001b[0m\u001b[1;33m)\u001b[0m\u001b[1;33m\u001b[0m\u001b[1;33m\u001b[0m\u001b[0m\n\u001b[0m\u001b[0;32m      9\u001b[0m     \u001b[1;31m# ///////////////////////////////////////////////////////////////////////////////////\u001b[0m\u001b[1;33m\u001b[0m\u001b[1;33m\u001b[0m\u001b[1;33m\u001b[0m\u001b[0m\n",
      "\u001b[1;31mKeyError\u001b[0m: '1'"
     ]
    }
   ],
   "source": [
    "# 13229\n",
    "\n",
    "T = int(input())\n",
    "days = {'MON':6, 'TUE':5, 'WED':4,'THU':3,'FRI':2, 'SAT':1,'SUN':7}\n",
    "for test_case in range(1, T + 1):\n",
    "    # ///////////////////////////////////////////////////////////////////////////////////\n",
    "    print('#'+str(test_case)+' '+str(days[input()]))\n",
    "    # ///////////////////////////////////////////////////////////////////////////////////"
   ]
  },
  {
   "cell_type": "code",
   "execution_count": null,
   "metadata": {},
   "outputs": [],
   "source": [
    "#12741\n",
    "T = int(input())\n",
    "result = []\n",
    "# 여러개의 테스트 케이스가 주어지므로, 각각을 처리합니다.\n",
    "for test_case in range(1, T + 1):\n",
    "    # ///////////////////////////////////////////////////////////////////////////////////\n",
    "    cases = list(map(int, input().split()))\n",
    "    \n",
    "    if cases[1] < cases[2] or cases[3] < cases[0]: # 둘이 겹치는 범위가 없으면 안됨. 따라서 한 쪽 큰값 < 한 쪽 작은값인 경우 안겹침\n",
    "        result.append(0)\n",
    "        continue\n",
    "        \n",
    "    start = max(cases[0], cases[2]) # 시작값은 작은애들중 큰값\n",
    "    end = min(cases[1], cases[3]) # 끝나는 값은 큰 애들중 작은값\n",
    "    time = end - start\n",
    "    result.append(time)\n",
    "    \n",
    "for i in range(T):\n",
    "    print(f'#{i+1} {result[i]}')"
   ]
  },
  {
   "cell_type": "code",
   "execution_count": null,
   "metadata": {},
   "outputs": [],
   "source": [
    "# 3376\n",
    "T = int(input())\n",
    "\n",
    "for test_case in range(1, T + 1):\n",
    "    n = int(input())\n",
    "    if n < 3:\n",
    "        print(f'#{test_case} 1')\n",
    "        continue\n",
    "    \n",
    "    dp = (n+1)*[0]\n",
    "    \n",
    "    dp[1] = 1\n",
    "    dp[2] = 1\n",
    "    dp[3] = 1\n",
    "    for i in range(4,n+1):\n",
    "        dp[i] = dp[i-3] + dp[i-2] # 점화식\n",
    "    print(f'#{test_case} {dp[n]}')"
   ]
  },
  {
   "cell_type": "code",
   "execution_count": null,
   "metadata": {},
   "outputs": [],
   "source": [
    "#1206\n",
    "input()\n",
    "T = 20\n",
    "test_case_num = 0\n",
    "for test_case in range(1, T):\n",
    "    bldgs = list(map(int, input().split()))\n",
    "    if bldgs[0] > 0:\n",
    "        continue\n",
    "    test_case_num += 1\n",
    "    \n",
    "    goodHouses = 0\n",
    "    for i in range(2,len(bldgs)-2):\n",
    "        maxHeight = max(bldgs[i-2],bldgs[i-1],bldgs[i+1],bldgs[i+2]) # 가로위치 +- 2로 가장 높은건물 찾음\n",
    "        if maxHeight > bldgs[i]: # 지금 건물보다 높으면 pass\n",
    "            continue\n",
    "        else: # 조망권 좋은 방 = 현 건물 층수 - +-2 옆건물 중 가장 높은 건물\n",
    "            goodHouses += bldgs[i] - maxHeight\n",
    "            \n",
    "    print(f'#{test_case_num} {goodHouses}')\n"
   ]
  },
  {
   "cell_type": "code",
   "execution_count": null,
   "metadata": {},
   "outputs": [],
   "source": [
    "T = int(input())\n",
    "\n",
    "for test_case in range(1, T + 1):\n",
    "    nums = list(map(int, input().split()))\n",
    "    result = nums[0] * nums[1]\n",
    "    for i in nums:\n",
    "        if i >= 10 or i <=0:\n",
    "            result = -1\n",
    "    print(f'#{test_case} {result}')"
   ]
  },
  {
   "cell_type": "code",
   "execution_count": null,
   "metadata": {},
   "outputs": [],
   "source": [
    "T = int(input())\n",
    "\n",
    "for test_case in range(1, T + 1):\n",
    "    n = int(input())\n",
    "    done = False\n",
    "    \n",
    "    for i in range(9,0,-1):\n",
    "        if n % i == 0 and n // i <= 9:\n",
    "            print(f'#{test_case} Yes')\n",
    "            done = True\n",
    "            break\n",
    "            \n",
    "    if not done:\n",
    "        print(f'#{test_case} No')"
   ]
  },
  {
   "cell_type": "code",
   "execution_count": null,
   "metadata": {},
   "outputs": [],
   "source": [
    "#11387\n",
    "T = int(input())\n",
    "for test_case in range(1, T + 1):\n",
    "    info = list(map(int, input().split()))\n",
    "    D = info[0]\n",
    "    L = info[1]\n",
    "    N = info[2]\n",
    "    \n",
    "    LPercent = L / 100\n",
    "    result = 0\n",
    "    \n",
    "    for i in range(0,N):\n",
    "        result += D * (1 + i * LPercent)\n",
    "        \n",
    "    result = int(result)  \n",
    "    print(f'#{test_case} {result}')\n"
   ]
  },
  {
   "cell_type": "code",
   "execution_count": 1,
   "metadata": {},
   "outputs": [
    {
     "name": "stdout",
     "output_type": "stream",
     "text": [
      "#1 0\n",
      "#2 0\n",
      "#3 0\n",
      "#4 0\n",
      "#5 0\n",
      "#6 0\n",
      "#7 0\n",
      "#8 0\n",
      "#9 0\n",
      "#10 0\n"
     ]
    }
   ],
   "source": [
    "#1208\n",
    "T = 10\n",
    "for test_case in range(1, T + 1):\n",
    "    loop = int(input())\n",
    "    lst = list(map(int, input().split()))\n",
    "    for i in range(loop):\n",
    "        maxIdx = lst.index(max(lst))\n",
    "        minIdx = lst.index(min(lst))\n",
    "        \n",
    "        lst[maxIdx] -= 1\n",
    "        lst[minIdx] += 1\n",
    "        \n",
    "    result = max(lst) - min(lst)\n",
    "    print(f'#{test_case} {result}')"
   ]
  },
  {
   "cell_type": "code",
   "execution_count": 11,
   "metadata": {},
   "outputs": [
    {
     "ename": "ValueError",
     "evalue": "invalid literal for int() with base 10: ''",
     "output_type": "error",
     "traceback": [
      "\u001b[1;31m---------------------------------------------------------------------------\u001b[0m",
      "\u001b[1;31mValueError\u001b[0m                                Traceback (most recent call last)",
      "\u001b[1;32m<ipython-input-11-a9e57616dfe2>\u001b[0m in \u001b[0;36m<module>\u001b[1;34m\u001b[0m\n\u001b[0;32m      2\u001b[0m \u001b[0mnum\u001b[0m \u001b[1;33m=\u001b[0m \u001b[1;33m{\u001b[0m\u001b[1;34m'ZRO'\u001b[0m\u001b[1;33m:\u001b[0m\u001b[1;36m0\u001b[0m\u001b[1;33m,\u001b[0m \u001b[1;34m'ONE'\u001b[0m\u001b[1;33m:\u001b[0m\u001b[1;36m1\u001b[0m\u001b[1;33m,\u001b[0m \u001b[1;34m'TWO'\u001b[0m\u001b[1;33m:\u001b[0m\u001b[1;36m2\u001b[0m\u001b[1;33m,\u001b[0m \u001b[1;34m'THR'\u001b[0m\u001b[1;33m:\u001b[0m\u001b[1;36m3\u001b[0m\u001b[1;33m,\u001b[0m \u001b[1;34m'FOR'\u001b[0m\u001b[1;33m:\u001b[0m\u001b[1;36m4\u001b[0m\u001b[1;33m,\u001b[0m \u001b[1;34m'FIV'\u001b[0m\u001b[1;33m:\u001b[0m\u001b[1;36m5\u001b[0m\u001b[1;33m,\u001b[0m \u001b[1;34m'SIX'\u001b[0m\u001b[1;33m:\u001b[0m\u001b[1;36m6\u001b[0m\u001b[1;33m,\u001b[0m \u001b[1;34m'SVN'\u001b[0m\u001b[1;33m:\u001b[0m\u001b[1;36m7\u001b[0m\u001b[1;33m,\u001b[0m \u001b[1;34m'EGT'\u001b[0m\u001b[1;33m:\u001b[0m\u001b[1;36m8\u001b[0m\u001b[1;33m,\u001b[0m \u001b[1;34m'NIN'\u001b[0m\u001b[1;33m:\u001b[0m\u001b[1;36m9\u001b[0m\u001b[1;33m}\u001b[0m\u001b[1;33m\u001b[0m\u001b[1;33m\u001b[0m\u001b[0m\n\u001b[0;32m      3\u001b[0m \u001b[1;33m\u001b[0m\u001b[0m\n\u001b[1;32m----> 4\u001b[1;33m \u001b[0mT\u001b[0m \u001b[1;33m=\u001b[0m \u001b[0mint\u001b[0m\u001b[1;33m(\u001b[0m\u001b[0minput\u001b[0m\u001b[1;33m(\u001b[0m\u001b[1;33m)\u001b[0m\u001b[1;33m)\u001b[0m\u001b[1;33m\u001b[0m\u001b[1;33m\u001b[0m\u001b[0m\n\u001b[0m\u001b[0;32m      5\u001b[0m \u001b[1;33m\u001b[0m\u001b[0m\n\u001b[0;32m      6\u001b[0m \u001b[1;32mfor\u001b[0m \u001b[0mtest_case\u001b[0m \u001b[1;32min\u001b[0m \u001b[0mrange\u001b[0m\u001b[1;33m(\u001b[0m\u001b[1;36m1\u001b[0m\u001b[1;33m,\u001b[0m \u001b[0mT\u001b[0m \u001b[1;33m+\u001b[0m \u001b[1;36m1\u001b[0m\u001b[1;33m)\u001b[0m\u001b[1;33m:\u001b[0m\u001b[1;33m\u001b[0m\u001b[1;33m\u001b[0m\u001b[0m\n",
      "\u001b[1;31mValueError\u001b[0m: invalid literal for int() with base 10: ''"
     ]
    }
   ],
   "source": [
    "#1221\n",
    "num = [0, 1, 2, 3, 4, 5, 6, 7, 8, 9]\n",
    "alien = ['ZRO', 'ONE', 'TWO', 'THR', 'FOR', 'FIV', 'SIX', 'SVN', 'EGT', 'NIN']\n",
    "numToAlien = dict(zip(num, alien)) # {0:'ZRO', ...}\n",
    "alienToNum  = dict(zip(alien ,num)) # {'ZRO':0, ...}\n",
    "\n",
    "T = int(input())\n",
    "\n",
    "for test_case in range(1, T + 1):\n",
    "    firstLine = input().split()\n",
    "    lst = input().split()\n",
    "\n",
    "    human = list()\n",
    "\n",
    "    for i in lst:\n",
    "        human.append(alienToNum[i]) # ['ONE','ZRO'] -> [1,0]\n",
    "    human.sort()\n",
    "\n",
    "    alien = list()\n",
    "    for i in human:\n",
    "        alien.append(numToAlien[i]) # [0,1] -> ['ZRO', 'ONE']\n",
    "    \n",
    "    print(f'#{test_case}')\n",
    "    for i in alien:\n",
    "        print(i, end = \" \")\n",
    "    print('')"
   ]
  },
  {
   "cell_type": "code",
   "execution_count": 14,
   "metadata": {},
   "outputs": [
    {
     "ename": "ValueError",
     "evalue": "invalid literal for int() with base 10: '-'",
     "output_type": "error",
     "traceback": [
      "\u001b[1;31m---------------------------------------------------------------------------\u001b[0m",
      "\u001b[1;31mValueError\u001b[0m                                Traceback (most recent call last)",
      "\u001b[1;32m<ipython-input-14-2909e893545e>\u001b[0m in \u001b[0;36m<module>\u001b[1;34m\u001b[0m\n\u001b[0;32m      5\u001b[0m     \u001b[0mlst\u001b[0m \u001b[1;33m=\u001b[0m \u001b[0mlist\u001b[0m\u001b[1;33m(\u001b[0m\u001b[1;33m)\u001b[0m\u001b[1;33m\u001b[0m\u001b[1;33m\u001b[0m\u001b[0m\n\u001b[0;32m      6\u001b[0m     \u001b[1;32mfor\u001b[0m \u001b[0mi\u001b[0m \u001b[1;32min\u001b[0m \u001b[0mrange\u001b[0m\u001b[1;33m(\u001b[0m\u001b[1;36m100\u001b[0m\u001b[1;33m)\u001b[0m\u001b[1;33m:\u001b[0m\u001b[1;33m\u001b[0m\u001b[1;33m\u001b[0m\u001b[0m\n\u001b[1;32m----> 7\u001b[1;33m         \u001b[0minList\u001b[0m \u001b[1;33m=\u001b[0m \u001b[0mlist\u001b[0m\u001b[1;33m(\u001b[0m\u001b[0mmap\u001b[0m\u001b[1;33m(\u001b[0m\u001b[0mint\u001b[0m\u001b[1;33m,\u001b[0m \u001b[0minput\u001b[0m\u001b[1;33m(\u001b[0m\u001b[1;33m)\u001b[0m\u001b[1;33m.\u001b[0m\u001b[0msplit\u001b[0m\u001b[1;33m(\u001b[0m\u001b[1;33m)\u001b[0m\u001b[1;33m)\u001b[0m\u001b[1;33m)\u001b[0m\u001b[1;33m\u001b[0m\u001b[1;33m\u001b[0m\u001b[0m\n\u001b[0m\u001b[0;32m      8\u001b[0m         \u001b[0mlst\u001b[0m\u001b[1;33m.\u001b[0m\u001b[0mappend\u001b[0m\u001b[1;33m(\u001b[0m\u001b[0minList\u001b[0m\u001b[1;33m)\u001b[0m\u001b[1;33m\u001b[0m\u001b[1;33m\u001b[0m\u001b[0m\n\u001b[0;32m      9\u001b[0m \u001b[1;33m\u001b[0m\u001b[0m\n",
      "\u001b[1;31mValueError\u001b[0m: invalid literal for int() with base 10: '-'"
     ]
    }
   ],
   "source": [
    "#1220\n",
    "T = 10\n",
    "for test_case in range(1, T + 1):\n",
    "    dump = input()\n",
    "    lst = list()\n",
    "    for i in range(100):\n",
    "        inList = list(map(int, input().split()))\n",
    "        lst.append(inList)\n",
    "    \n",
    "    conflict = 0\n",
    "\n",
    "    # N극 S극중 한개만 할거임\n",
    "    for i in range(100):\n",
    "        for j in range(100):\n",
    "            if lst[i][j] == 1: # N극이 있는 경우\n",
    "                for k in range(i+1,100): # 밑으로 쭉 내려감\n",
    "                    if lst[k][j] == 2: # S극이 있으면 conflict\n",
    "                        conflict += 1\n",
    "                        break\n",
    "                    elif lst[k][j] == 1:# N극이 있으면 conflict가 날 수 없으므로 나가버림, \n",
    "                        break           # N - N - S의 경우에도 1개로 치니까\n",
    "                                        #     ^ 얘로 conflict 체크하면 됨\n",
    "                        \n",
    "    print(f'#{test_case} {conflict}')"
   ]
  },
  {
   "cell_type": "code",
   "execution_count": null,
   "metadata": {},
   "outputs": [],
   "source": [
    "# 3499\n",
    "# 인덱스 번호 기준으로\n",
    "# 0 1 2 3 4 셔플 시\n",
    "# 0   1   2\n",
    "#   3   4   \n",
    "# 형태가 됨을 이용한다.\n",
    "\n",
    "T = int(input())\n",
    "\n",
    "def shuffle(lst):\n",
    "    length = len(lst)\n",
    "    lenDiv = int(length/2)\n",
    "    shuffleLst = [0] * length\n",
    "    if length % 2 == 0: # 짝수\n",
    "        for i in range(lenDiv):\n",
    "            place = i * 2 # 인덱스 번호 0 2 4 ... \n",
    "            shuffleLst[place] = lst[i] # = 0 1 2 ...\n",
    "        for i in range(lenDiv):\n",
    "            place = (i * 2) + 1 # 인덱스 번호 1 3 5 ...\n",
    "            shuffleLst[place] = lst[i + lenDiv] # = 3 4 5 ... (원래 리스트 인덱스 번호)\n",
    "\n",
    "    else:\n",
    "        for i in range(0,lenDiv+1): # 홀수일 시 먼저 놓는게 하나 더 들어감\n",
    "            place = i * 2 # 인덱스 번호 0 2 4 8 ...\n",
    "            shuffleLst[place] = lst[i] # = 0 1 2 3 ... (원래 리스트 인덱스 번호)\n",
    "        for i in range(lenDiv):\n",
    "            place = (i * 2) + 1 # 인덱스 번호 1 3 5 ...\n",
    "            shuffleLst[place] = lst[i + lenDiv + 1] # = 4 5 6 ... (원래 리스트 인덱스 번호)\n",
    "\n",
    "    return shuffleLst\n",
    "\n",
    "for test_case in range(1, T + 1):\n",
    "    N = int(input())\n",
    "    lst = input().split()\n",
    "    numlst = list(range(N))\n",
    "    numlst = shuffle(numlst)\n",
    "    print(f'#{test_case}', end = \" \")\n",
    "    for i in numlst:\n",
    "        print(f'{lst[i]}', end = \" \")\n",
    "    print('')"
   ]
  }
 ],
 "metadata": {
  "kernelspec": {
   "display_name": "Python 3 (ipykernel)",
   "language": "python",
   "name": "python3"
  },
  "language_info": {
   "codemirror_mode": {
    "name": "ipython",
    "version": 3
   },
   "file_extension": ".py",
   "mimetype": "text/x-python",
   "name": "python",
   "nbconvert_exporter": "python",
   "pygments_lexer": "ipython3",
   "version": "3.7.6"
  }
 },
 "nbformat": 4,
 "nbformat_minor": 4
}
