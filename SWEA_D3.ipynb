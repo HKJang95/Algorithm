{
 "cells": [
  {
   "cell_type": "code",
   "execution_count": 1,
   "metadata": {
    "scrolled": true
   },
   "outputs": [
    {
     "name": "stdout",
     "output_type": "stream",
     "text": [
      "1\n",
      "1\n"
     ]
    },
    {
     "ename": "KeyError",
     "evalue": "'1'",
     "output_type": "error",
     "traceback": [
      "\u001b[1;31m---------------------------------------------------------------------------\u001b[0m",
      "\u001b[1;31mKeyError\u001b[0m                                  Traceback (most recent call last)",
      "\u001b[1;32m<ipython-input-1-bee15d7a1812>\u001b[0m in \u001b[0;36m<module>\u001b[1;34m\u001b[0m\n\u001b[0;32m      6\u001b[0m \u001b[1;32mfor\u001b[0m \u001b[0mtest_case\u001b[0m \u001b[1;32min\u001b[0m \u001b[0mrange\u001b[0m\u001b[1;33m(\u001b[0m\u001b[1;36m1\u001b[0m\u001b[1;33m,\u001b[0m \u001b[0mT\u001b[0m \u001b[1;33m+\u001b[0m \u001b[1;36m1\u001b[0m\u001b[1;33m)\u001b[0m\u001b[1;33m:\u001b[0m\u001b[1;33m\u001b[0m\u001b[1;33m\u001b[0m\u001b[0m\n\u001b[0;32m      7\u001b[0m     \u001b[1;31m# ///////////////////////////////////////////////////////////////////////////////////\u001b[0m\u001b[1;33m\u001b[0m\u001b[1;33m\u001b[0m\u001b[1;33m\u001b[0m\u001b[0m\n\u001b[1;32m----> 8\u001b[1;33m     \u001b[0mprint\u001b[0m\u001b[1;33m(\u001b[0m\u001b[1;34m'#'\u001b[0m\u001b[1;33m+\u001b[0m\u001b[0mstr\u001b[0m\u001b[1;33m(\u001b[0m\u001b[0mtest_case\u001b[0m\u001b[1;33m)\u001b[0m\u001b[1;33m+\u001b[0m\u001b[1;34m' '\u001b[0m\u001b[1;33m+\u001b[0m\u001b[0mstr\u001b[0m\u001b[1;33m(\u001b[0m\u001b[0mdays\u001b[0m\u001b[1;33m[\u001b[0m\u001b[0minput\u001b[0m\u001b[1;33m(\u001b[0m\u001b[1;33m)\u001b[0m\u001b[1;33m]\u001b[0m\u001b[1;33m)\u001b[0m\u001b[1;33m)\u001b[0m\u001b[1;33m\u001b[0m\u001b[1;33m\u001b[0m\u001b[0m\n\u001b[0m\u001b[0;32m      9\u001b[0m     \u001b[1;31m# ///////////////////////////////////////////////////////////////////////////////////\u001b[0m\u001b[1;33m\u001b[0m\u001b[1;33m\u001b[0m\u001b[1;33m\u001b[0m\u001b[0m\n",
      "\u001b[1;31mKeyError\u001b[0m: '1'"
     ]
    }
   ],
   "source": [
    "# 13229\n",
    "\n",
    "T = int(input())\n",
    "days = {'MON':6, 'TUE':5, 'WED':4,'THU':3,'FRI':2, 'SAT':1,'SUN':7}\n",
    "for test_case in range(1, T + 1):\n",
    "    # ///////////////////////////////////////////////////////////////////////////////////\n",
    "    print('#'+str(test_case)+' '+str(days[input()]))\n",
    "    # ///////////////////////////////////////////////////////////////////////////////////"
   ]
  },
  {
   "cell_type": "code",
   "execution_count": null,
   "metadata": {},
   "outputs": [],
   "source": [
    "#12741\n",
    "T = int(input())\n",
    "result = []\n",
    "# 여러개의 테스트 케이스가 주어지므로, 각각을 처리합니다.\n",
    "for test_case in range(1, T + 1):\n",
    "    # ///////////////////////////////////////////////////////////////////////////////////\n",
    "    cases = list(map(int, input().split()))\n",
    "    \n",
    "    if cases[1] < cases[2] or cases[3] < cases[0]: # 둘이 겹치는 범위가 없으면 안됨. 따라서 한 쪽 큰값 < 한 쪽 작은값인 경우 안겹침\n",
    "        result.append(0)\n",
    "        continue\n",
    "        \n",
    "    start = max(cases[0], cases[2]) # 시작값은 작은애들중 큰값\n",
    "    end = min(cases[1], cases[3]) # 끝나는 값은 큰 애들중 작은값\n",
    "    time = end - start\n",
    "    result.append(time)\n",
    "    \n",
    "for i in range(T):\n",
    "    print(f'#{i+1} {result[i]}')"
   ]
  },
  {
   "cell_type": "code",
   "execution_count": null,
   "metadata": {},
   "outputs": [],
   "source": [
    "# 3376\n",
    "T = int(input())\n",
    "\n",
    "for test_case in range(1, T + 1):\n",
    "    n = int(input())\n",
    "    if n < 3:\n",
    "        print(f'#{test_case} 1')\n",
    "        continue\n",
    "    \n",
    "    dp = (n+1)*[0]\n",
    "    \n",
    "    dp[1] = 1\n",
    "    dp[2] = 1\n",
    "    dp[3] = 1\n",
    "    for i in range(4,n+1):\n",
    "        dp[i] = dp[i-3] + dp[i-2] # 점화식\n",
    "    print(f'#{test_case} {dp[n]}')"
   ]
  },
  {
   "cell_type": "code",
   "execution_count": null,
   "metadata": {},
   "outputs": [],
   "source": [
    "#1206\n",
    "input()\n",
    "T = 20\n",
    "test_case_num = 0\n",
    "for test_case in range(1, T):\n",
    "    bldgs = list(map(int, input().split()))\n",
    "    if bldgs[0] > 0:\n",
    "        continue\n",
    "    test_case_num += 1\n",
    "    \n",
    "    goodHouses = 0\n",
    "    for i in range(2,len(bldgs)-2):\n",
    "        maxHeight = max(bldgs[i-2],bldgs[i-1],bldgs[i+1],bldgs[i+2]) # 가로위치 +- 2로 가장 높은건물 찾음\n",
    "        if maxHeight > bldgs[i]: # 지금 건물보다 높으면 pass\n",
    "            continue\n",
    "        else: # 조망권 좋은 방 = 현 건물 층수 - +-2 옆건물 중 가장 높은 건물\n",
    "            goodHouses += bldgs[i] - maxHeight\n",
    "            \n",
    "    print(f'#{test_case_num} {goodHouses}')\n"
   ]
  }
 ],
 "metadata": {
  "kernelspec": {
   "display_name": "Python 3",
   "language": "python",
   "name": "python3"
  },
  "language_info": {
   "codemirror_mode": {
    "name": "ipython",
    "version": 3
   },
   "file_extension": ".py",
   "mimetype": "text/x-python",
   "name": "python",
   "nbconvert_exporter": "python",
   "pygments_lexer": "ipython3",
   "version": "3.7.6"
  }
 },
 "nbformat": 4,
 "nbformat_minor": 4
}
