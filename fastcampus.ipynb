{
 "cells": [
  {
   "cell_type": "code",
   "execution_count": 1,
   "metadata": {},
   "outputs": [],
   "source": [
    "# Binary Tree\n",
    "class Node:\n",
    "    def __init__(self, value): # 노드 한 개. 자신, 왼쪽 주소, 오른쪽 주소\n",
    "        self.value = value \n",
    "        self.left = None\n",
    "        self.right = None\n",
    "\n",
    "class NodeMgmt:\n",
    "    def __init__(self, head):\n",
    "        self.head = head # 루트 노드 생성 (시작 시)\n",
    "\n",
    "    def insert(self, value): # 삽입\n",
    "        self.current_node = self.head # 일단 루트 노드부터 시작\n",
    "        while True:\n",
    "            if value < self.current_node.value: # 값이 현재 지정된 노드보다 작으면\n",
    "                if self.current_node.left != None: # 왼쪽으로 보내야 하는데, 이미 값이 있으면\n",
    "                    self.current_node = self.current_node.left # 왼쪽 노드 한 줄 내려감\n",
    "                else:\n",
    "                    self.current_node.left = Node(value) # 값이 없으면 왼쪽으로 붙임\n",
    "                    break\n",
    "            else:\n",
    "                if self.current_node.right != None: # 위 왼쪽에 붙이는 거에 정 반대\n",
    "                    self.current_node = self.current_node.right\n",
    "                else:\n",
    "                    self.current_node.right = Node(value)\n",
    "                    break\n",
    "\n",
    "    def delete(self, value): # 삭제\n",
    "        self.current_node = self.head\n",
    "        searched = False\n",
    "\n",
    "        self.parent = self.head\n",
    "\n",
    "        # 1. 삭제할 노드 탐색\n",
    "        while self.current_node: # 노드가 null이 아닌 동안\n",
    "            if self.current_node.value == value: # 값 찾으면\n",
    "                searched = True\n",
    "                break # 끝냄\n",
    "            elif value < self.current_node.value: # 지금 노드가 더 크면\n",
    "                self.parent = self.current_node # 부모는 현재\n",
    "                self.current_node = self.current_node.left # 왼쪽으로 내려감\n",
    "            else:\n",
    "                self.parent = self.current_node\n",
    "                self.current_node = self.current_node.right\n",
    "\n",
    "        if not searched:\n",
    "            return None\n",
    "\n",
    "        # 2. 삭제할 노드가 leaf node인 경우 (맨 끝 노드인 경우)\n",
    "        if self.current_node.left == None and self.current_node.right == None: # 삭제할 노드의 좌 우 모두 빈 경우\n",
    "            if value < self.parent.value: # 부모 노드보다 값이 작으면 왼쪽거\n",
    "                self.parent.left = None\n",
    "            else: # 아니면 오른쪽꺼\n",
    "                self.parent.right = None\n",
    "            del self.current_node # 자신 삭제\n",
    "\n",
    "        # 3. 삭제할 노드가 child node를 한 개 가지고 있는 경우\n",
    "        if self.current_node.left != None or self.current_node.right == None:\n",
    "\n",
    "\n"
   ]
  },
  {
   "cell_type": "code",
   "execution_count": 2,
   "metadata": {},
   "outputs": [],
   "source": [
    "head = Node(1)\n",
    "BST = NodeMgmt(head)\n",
    "BST.insert(2)"
   ]
  },
  {
   "cell_type": "code",
   "execution_count": null,
   "metadata": {},
   "outputs": [],
   "source": []
  }
 ],
 "metadata": {
  "interpreter": {
   "hash": "2be5faf79681da6f2a61fdfdd5405d65d042280f7fba6178067603e3a2925119"
  },
  "kernelspec": {
   "display_name": "Python 3.10.2 64-bit",
   "language": "python",
   "name": "python3"
  },
  "language_info": {
   "codemirror_mode": {
    "name": "ipython",
    "version": 3
   },
   "file_extension": ".py",
   "mimetype": "text/x-python",
   "name": "python",
   "nbconvert_exporter": "python",
   "pygments_lexer": "ipython3",
   "version": "3.7.6"
  },
  "orig_nbformat": 4
 },
 "nbformat": 4,
 "nbformat_minor": 2
}
